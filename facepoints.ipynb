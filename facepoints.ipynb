{
 "cells": [
  {
   "cell_type": "code",
   "execution_count": 1,
   "metadata": {},
   "outputs": [],
   "source": [
    "import cv2\n",
    "import numpy as np\n",
    "import dlib\n",
    "detector=dlib.get_frontal_face_detector()\n",
    "predictor=dlib.shape_predictor(\"C:/Users/S_H_R_E_Y/Downloads/shape_predictor_68_face_landmarks.dat\")\n",
    "cap=cv2.VideoCapture(0)\n",
    "while(True):\n",
    "    ret,frame=cap.read() \n",
    "    gray=cv2.cvtColor(frame,cv2.COLOR_BGR2GRAY)\n",
    "    faces=detector(gray)\n",
    "    for face in faces:\n",
    "        #x1=face.left()\n",
    "        #y1=face.top()\n",
    "        #x2=face.right()\n",
    "        #y2=face.bottom()\n",
    "        #cv2.rectangle(frame,(x1,y1),(x2,y2),(0,255,0),3)\n",
    "        landmarks=predictor(gray,face)\n",
    "        for n in range(0,68):\n",
    "            x=landmarks.part(n).x\n",
    "            y=landmarks.part(n).y \n",
    "            cv2.circle(frame,(x,y),6,(255,0,0),-1)\n",
    "    cv2.imshow('frame',frame)\n",
    "    if cv2.waitKey(1)&0xff==ord('q') :\n",
    "        break\n",
    "cap.release()\n",
    "cv2.destroyAllWindows()"
   ]
  }
 ],
 "metadata": {
  "language_info": {
   "codemirror_mode": {
    "name": "ipython",
    "version": 3
   },
   "file_extension": ".py",
   "mimetype": "text/x-python",
   "name": "python",
   "nbconvert_exporter": "python",
   "pygments_lexer": "ipython3",
   "version": "3.8.2-final"
  },
  "orig_nbformat": 2,
  "kernelspec": {
   "name": "python38264bite97321b42c334870bdeaccdf56bdcbce",
   "display_name": "Python 3.8.2 64-bit"
  }
 },
 "nbformat": 4,
 "nbformat_minor": 2
}